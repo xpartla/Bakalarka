{
 "cells": [
  {
   "cell_type": "code",
   "execution_count": 1,
   "id": "initial_id",
   "metadata": {
    "collapsed": true,
    "ExecuteTime": {
     "end_time": "2025-03-25T13:49:04.903454700Z",
     "start_time": "2025-03-25T13:49:04.590878700Z"
    }
   },
   "outputs": [],
   "source": [
    "import numpy as np\n",
    "import pandas as pd\n",
    "from sklearn.compose import ColumnTransformer\n",
    "from sklearn.preprocessing import StandardScaler, OneHotEncoder\n",
    "from sklearn.impute import SimpleImputer\n",
    "from sklearn.pipeline import Pipeline\n",
    "from sklearn.base import BaseEstimator, TransformerMixin\n",
    "from sklearn.feature_selection import VarianceThreshold, SelectKBest, f_classif, RFE\n",
    "from sklearn.linear_model import LogisticRegression\n",
    "from sklearn.model_selection import train_test_split\n",
    "from sklearn.metrics import accuracy_score, classification_report\n",
    "pd.options.display.max_columns = None\n",
    "import joblib\n",
    "from itertools import chain\n",
    "from sklearn.ensemble import RandomForestClassifier\n",
    "from sklearn.feature_selection import mutual_info_classif\n",
    "from sklearn.metrics import log_loss\n",
    "import matplotlib.pyplot as plt\n",
    "from sklearn.metrics import classification_report\n",
    "from sklearn.model_selection import cross_val_score"
   ]
  },
  {
   "cell_type": "code",
   "execution_count": 2,
   "outputs": [],
   "source": [
    "df = pd.read_csv('data/data.csv', low_memory=False)"
   ],
   "metadata": {
    "collapsed": false,
    "ExecuteTime": {
     "end_time": "2025-03-25T13:49:07.909732700Z",
     "start_time": "2025-03-25T13:49:05.654412900Z"
    }
   },
   "id": "2ca21d159eb15b72"
  },
  {
   "cell_type": "markdown",
   "source": [
    "First we fix the encoding to transform codes, such as 8 and 9 to NaN if they represent missing values. Also, we drop several columns that we found not present in the data dictionary, since we do not know what do they represent.\n",
    "\n",
    "Then we proceed with removing columns that contain > 20% of missing values."
   ],
   "metadata": {
    "collapsed": false
   },
   "id": "376bf6597f036de3"
  },
  {
   "cell_type": "code",
   "execution_count": 3,
   "outputs": [
    {
     "name": "stdout",
     "output_type": "stream",
     "text": [
      "initial: 862\n",
      "remaining: 213\n",
      "dropped: 649\n"
     ]
    }
   ],
   "source": [
    "max_vals = df.select_dtypes(include='number').max()\n",
    "max_9 = max_vals[max_vals == 9].index.tolist()\n",
    "for col in max_9:\n",
    "    df.loc[df[col] == 9, col] = np.nan \n",
    "max_vals = df.select_dtypes(include='number').max()\n",
    "max_8 = max_vals[max_vals == 8].index.tolist()\n",
    "\n",
    "missing_subset = {'ALCFREQ', 'HATTMULT', 'STROKMUL', 'TIAMULT', 'ARTHTYPE', 'ARTHUPEX', 'ARTHLOEX', 'ARTHSPIN', 'ARTHUNK', 'CVDCOG', 'STROKCOG', 'CVDIMAG', 'CVDIMAG1', 'CVDIMAG2', 'CVDIMAG3', 'CVDIMAG4', 'PDNORMAL', 'SPEECH', 'FACEXP', 'TRESTRHD', 'TRESTLHD', 'TRESTRFT', 'TRESTLFT', 'TRACTRHD', 'TRACTLHD', 'RIGDNECK', 'RIGDUPRT', 'RIGDUPLF', 'RIGDLORT', 'RIGDLOLF', 'TAPSRT', 'TAPSLF', 'HANDMOVR', 'HANDMOVL', 'HANDALTR', 'HANDALTL', 'LEGRT', 'LEGLF', 'ARISING', 'POSTURE', 'GAIT', 'POSSTAB', 'BRADYKIN', 'RESTTRL', 'RESTTRR', 'SLOWINGL', 'SLOWINGR', 'RIGIDL', 'RIGIDR', 'BRADY', 'POSTINST', 'CORTDEF', 'SIVDFIND', 'CVDMOTL', 'CVDMOTR', 'CORTVISL', 'CORTVISR', 'SOMATL', 'SOMATR', 'EYEPSP', 'DYSPSP', 'AXIALPSP', 'GAITPSP', 'APRAXSP', 'APRAXL', 'APRAXR', 'CORTSENL', 'CORTSENR', 'ATAXL', 'ATAXR', 'ALIENLML', 'ALIENLMR', 'DYSTONL', 'DYSTONR', 'MYOCLLT', 'MYOCLRT', 'MOMOPARK', 'MOMOALS', 'AMNDEM', 'PCA', 'NAMNDEM', 'AMYLPET', 'AMYLCSF', 'FDGAD', 'HIPPATR', 'TAUPETAD', 'CSFTAU', 'FDGFTLD', 'TPETFTLD', 'MRFTLD', 'DATSCAN', 'IMAGLINF', 'IMAGLAC', 'IMAGMACH', 'IMAGMICH', 'IMAGMWMH', 'IMAGEWMH', 'CANCER', 'MYOINF', 'CONGHRT', 'AFIBRILL', 'HYPERT', 'ANGINA', 'HYPCHOL', 'VB12DEF', 'THYDIS', 'ARTH', 'ARTYPE', 'ARTUPEX', 'ARTLOEX', 'ARTSPIN', 'ARTUNKN', 'URINEINC', 'BOWLINC', 'SLEEPAP', 'REMDIS', 'HYPOSOM', 'SLEEPOTH', 'ANGIOCP', 'ANGIOPCI', 'PACEMAKE', 'HVALVE', 'ANTIENC'}\n",
    "cols_to_change = list(missing_subset.intersection(max_8))\n",
    "df[cols_to_change] = df[cols_to_change].replace(8, np.nan)\n",
    "max_vals = df.select_dtypes(include='number').max()\n",
    "max_8 = max_vals[max_vals == 8].index.tolist()\n",
    "\n",
    "df = df.drop(columns=['NPWBRF', 'NACCBRNN', 'NPGRCCA', 'NPGRLA', 'NPGRHA', 'NPGRSNH', 'NPGRLCH', 'NACCAVAS', 'NPTAN', 'NPABAN', 'NPASAN', 'NPTDPAN', 'NPTHAL', 'NACCBRAA', 'NACCNEUR', 'NPADNC', 'NACCDIFF', 'NACCAMY', 'NPINF', 'NACCINF', 'NPHEMO', 'NPHEMO1', 'NPHEMO2', 'NPHEMO3', 'NPOLD', 'NPOLD1', 'NPOLD2', 'NPOLD3', 'NPOLD4', 'NACCMICR', 'NPOLDD', 'NPOLDD1', 'NPOLDD2', 'NPOLDD3', 'NPOLDD4', 'NACCHEM', 'NACCARTE', 'NPWMR', 'NPPATH', 'NACCNEC', 'NPPATH2', 'NPPATH3', 'NPPATH4', 'NPPATH5', 'NPPATH6', 'NPPATH7', 'NPPATH8', 'NPPATH9', 'NPPATH10', 'NPPATH11', 'NACCLEWY', 'NPLBOD', 'NPNLOSS', 'NPHIPSCL', 'NPFTDTAU', 'NACCPICK', 'NPFTDT2', 'NACCCBD', 'NACCPROG', 'NPFTDT5', 'NPFTDT6', 'NPFTDT7', 'NPFTDT8', 'NPFTDT9', 'NPFTDT10', 'NPFTDTDP', 'NPALSMND', 'NPOFTD', 'NPOFTD1', 'NPOFTD2', 'NPOFTD3', 'NPOFTD4', 'NPOFTD5', 'NPTDPA', 'NPTDPB', 'NPTDPC', 'NPTDPD', 'NPTDPE', 'NPPDXA', 'NPPDXB', 'NACCPRIO', 'NPPDXD', 'NPPDXE', 'NPPDXF', 'NPPDXG', 'NPPDXH', 'NPPDXI', 'NPPDXJ', 'NPPDXK', 'NPPDXL', 'NPPDXM', 'NPPDXN', 'NPPDXP', 'NPPDXQ', 'NPARTAG', 'NPATGSEV', 'NPATGAMY', 'NPATGAM1', 'NPATGAM2', 'NPATGAM3', 'NPATGAM4', 'NPATGAM5', 'NPATGFRN', 'NPATGFR1', 'NPATGFR2', 'NPATGFR3', 'NPATGFR4'])\n",
    "\n",
    "initial = df.shape[1]\n",
    "threshold = 0.8 * len(df)\n",
    "df = df.dropna(thresh=threshold, axis=1)\n",
    "remaining = df.shape[1]\n",
    "dropped = initial - remaining\n",
    "\n",
    "print(f\"initial: {initial}\")\n",
    "print(f\"remaining: {remaining}\")\n",
    "print(f\"dropped: {dropped}\")"
   ],
   "metadata": {
    "collapsed": false,
    "ExecuteTime": {
     "end_time": "2025-03-25T13:49:10.659112100Z",
     "start_time": "2025-03-25T13:49:09.289232200Z"
    }
   },
   "id": "e003061a514429d4"
  },
  {
   "cell_type": "markdown",
   "source": [
    "Now we apply the transformation mentioned during EDA - coalescing columns BILLS, SHOPPING, STOVE, TRAVEL into one column to reduce dimensionality\n",
    "At the end we also create a deep copy of the dataframe, for performance reasons, to aid with fragmentation"
   ],
   "metadata": {
    "collapsed": false
   },
   "id": "43bc71fa07121608"
  },
  {
   "cell_type": "code",
   "execution_count": 4,
   "outputs": [],
   "source": [
    "impairment_vars = ['BILLS', 'SHOPPING', 'STOVE', 'TRAVEL']\n",
    "\n",
    "functional_impairment = df[impairment_vars].sum(axis=1, skipna=True)\n",
    "\n",
    "df = pd.concat([df, functional_impairment.rename('FUNCTIONAL_IMPAIRMENT')], axis=1)\n",
    "df.drop(columns=impairment_vars, inplace=True)\n",
    "\n",
    "df = df.copy()"
   ],
   "metadata": {
    "collapsed": false,
    "ExecuteTime": {
     "end_time": "2025-03-25T13:49:11.941243200Z",
     "start_time": "2025-03-25T13:49:11.817715900Z"
    }
   },
   "id": "7a9fb885024d4cea"
  },
  {
   "cell_type": "markdown",
   "source": [
    "Now we will create a new target variable OUTCOME_WITHIN_4_YEARS, which indicates if the patient transitioned to MCI within 4 years of his original visit. The column contains true, if the patient transitioned to MCI within 4 years, false if he did not transition to MCI no matter the time frame, and we drop the columns that transitioned beyond the 4-year target\n",
    "TODO: FIX"
   ],
   "metadata": {
    "collapsed": false
   },
   "id": "c96186f7525e3dea"
  },
  {
   "cell_type": "code",
   "execution_count": 25,
   "outputs": [],
   "source": [
    "df = df[df[\"OUTCOME_EVENTMCI\"] == False | (df[\"TIME\"] <= 4)]\n",
    "df[\"OUTCOME_WITHIN_4_YEARS\"] = df[\"OUTCOME_EVENTMCI\"] & (df[\"TIME\"] <= 4)"
   ],
   "metadata": {
    "collapsed": false,
    "ExecuteTime": {
     "end_time": "2025-03-25T14:34:47.195030400Z",
     "start_time": "2025-03-25T14:34:47.055941500Z"
    }
   },
   "id": "82ea57e651090651"
  },
  {
   "cell_type": "markdown",
   "source": [
    "We follow by dropping the variables OUTCOME_EVENTMCI as well as TIME, since they do not matter to us anymore.\n",
    "Then we will drop the target variable OUTCOME_WITHIN_4_YEARS from the X partition and assign it to Y.\n",
    "Then we proceed by creating a training and testing datasets, split 80/20"
   ],
   "metadata": {
    "collapsed": false
   },
   "id": "c37a0ad39541c585"
  },
  {
   "cell_type": "code",
   "execution_count": 26,
   "outputs": [],
   "source": [
    "X = df.drop(columns=['OUTCOME_EVENTMCI', 'TIME'])\n",
    "y = df['OUTCOME_EVENTMCI']\n",
    "\n",
    "X_train, X_test, y_train, y_test = train_test_split(X, y, test_size=0.2, random_state=22, stratify=y)"
   ],
   "metadata": {
    "collapsed": false,
    "ExecuteTime": {
     "end_time": "2025-03-25T14:34:51.145825800Z",
     "start_time": "2025-03-25T14:34:51.062826200Z"
    }
   },
   "id": "94b50a8d85dcd177"
  },
  {
   "cell_type": "markdown",
   "source": [
    "Now we can start building the preprocessing pipeline"
   ],
   "metadata": {
    "collapsed": false
   },
   "id": "defd1c435e4d26ab"
  },
  {
   "cell_type": "markdown",
   "source": [
    "> First we create a transformer that is going to handle outliers. We will be using the transformer in the pipeline."
   ],
   "metadata": {
    "collapsed": false
   },
   "id": "fe0144d11dd22526"
  },
  {
   "cell_type": "code",
   "execution_count": 27,
   "outputs": [],
   "source": [
    "class HandleOutliers(BaseEstimator, TransformerMixin):\n",
    "    def __init__(self, lower_quantile=0.3, upper_quantile=0.7):\n",
    "        self.lower_quantile = lower_quantile\n",
    "        self.upper_quantile = upper_quantile\n",
    "\n",
    "    def fit(self, X, y=None):\n",
    "        X = pd.DataFrame(X)\n",
    "        self.quantile_bounds_ = {}\n",
    "        numeric_columns = X.select_dtypes(include=['int64', 'float64']).columns\n",
    "        \n",
    "        for col in numeric_columns:\n",
    "            Q1 = X[col].quantile(self.lower_quantile)\n",
    "            Q2 = X[col].quantile(self.upper_quantile)\n",
    "            IQR = Q2 - Q1\n",
    "            self.quantile_bounds_[col] = {\n",
    "                'lower_bound': Q1 - 1.5 * IQR,\n",
    "                'upper_bound': Q2 + 1.5 * IQR\n",
    "            }\n",
    "        return self\n",
    "\n",
    "    def transform(self, X):\n",
    "        X = pd.DataFrame(X).copy()\n",
    "        numeric_columns = X.select_dtypes(include=['int64', 'float64']).columns\n",
    "\n",
    "        for col in numeric_columns:\n",
    "            if col not in self.quantile_bounds_:\n",
    "                continue  \n",
    "            bounds = self.quantile_bounds_[col]\n",
    "            mean_value = X[col].mean()\n",
    "            \n",
    "            X[col] = np.where(X[col] < bounds['lower_bound'], mean_value, \n",
    "                              np.where(X[col] > bounds['upper_bound'], mean_value, X[col]))\n",
    "        return X.values"
   ],
   "metadata": {
    "collapsed": false,
    "ExecuteTime": {
     "end_time": "2025-03-25T14:35:01.764010500Z",
     "start_time": "2025-03-25T14:35:01.740990800Z"
    }
   },
   "id": "e531247d64b4aa7a"
  },
  {
   "cell_type": "markdown",
   "source": [
    "> Now we can split the dataset to numerical and categorical columns and create two sub-pipelines and process them separately, in the end we will join them again\n",
    "\n",
    "> The numerical pipeline include a simple imputer using median, clipping outliers in the 0.3 and 0.7 quantiles and scaling the remaining values using standardscaler\n",
    "\n",
    "> The categorical pipeline is being imputed using most_frequent method, and the values are then encoded using one hot encoder.\n",
    "\n",
    "> At first, we are creating a variance threshold, to remove non-informative features. We are going to be using thresholds of 0.01, 0.05 and 0.1 and inspect the number of remaining features after each application."
   ],
   "metadata": {
    "collapsed": false
   },
   "id": "82b2e37c88d7e1e5"
  },
  {
   "cell_type": "code",
   "execution_count": 16,
   "outputs": [
    {
     "name": "stdout",
     "output_type": "stream",
     "text": [
      "Original X_train shape: (11789, 209)\n",
      "X_train shape after variance threshold of 0.05: (11789, 206)\n",
      "X_train shape after variance threshold of 0.1: (11789, 206)\n",
      "X_train shape after variance threshold of 0.25: (11789, 206)\n"
     ]
    }
   ],
   "source": [
    "num_cols = X.select_dtypes(['number']).columns\n",
    "cat_cols = X.select_dtypes(['object']).columns\n",
    "\n",
    "num_pipeline = Pipeline([\n",
    "    ('imputer', SimpleImputer(strategy='median')),\n",
    "    ('outlier', HandleOutliers(lower_quantile=0.3, upper_quantile=0.7)),\n",
    "    ('scaler', StandardScaler())\n",
    "])\n",
    "\n",
    "cat_pipeline = Pipeline([\n",
    "    ('imputer', SimpleImputer(strategy='most_frequent')),\n",
    "    ('encoder', OneHotEncoder(handle_unknown='ignore', sparse_output=False))\n",
    "])\n",
    "\n",
    "preprocessor = ColumnTransformer([\n",
    "    ('num', num_pipeline, num_cols),\n",
    "    ('cat', cat_pipeline, cat_cols)\n",
    "])\n",
    "\n",
    "var_thresh_low = VarianceThreshold(threshold=0.01)\n",
    "var_thresh_mid = VarianceThreshold(threshold=0.05)\n",
    "var_thresh_high = VarianceThreshold(threshold=0.1)\n",
    "\n",
    "preprocessor.fit(X_train)\n",
    "vt_low_pipeline = Pipeline([\n",
    "    ('preprocessor', preprocessor),\n",
    "    ('variance_threshold', var_thresh_low)\n",
    "])\n",
    "vt_mid_pipeline = Pipeline([\n",
    "    ('preprocessor', preprocessor),\n",
    "    ('variance_threshold', var_thresh_mid)\n",
    "])\n",
    "vt_high_pipeline = Pipeline([\n",
    "    ('preprocessor', preprocessor),\n",
    "    ('variance_threshold', var_thresh_high)\n",
    "])\n",
    "\n",
    "X_vt_low = vt_low_pipeline.fit_transform(X_train)\n",
    "X_vt_mid = vt_mid_pipeline.fit_transform(X_train)\n",
    "X_vt_high = vt_high_pipeline.fit_transform(X_train)\n",
    "\n",
    "print(\"Original X_train shape:\", X_train.shape)\n",
    "print(\"X_train shape after variance threshold of 0.01:\", X_vt_low.shape)\n",
    "print(\"X_train shape after variance threshold of 0.05:\", X_vt_mid.shape)\n",
    "print(\"X_train shape after variance threshold of 0.1:\", X_vt_high.shape)"
   ],
   "metadata": {
    "collapsed": false,
    "ExecuteTime": {
     "end_time": "2025-03-25T13:54:38.567344700Z",
     "start_time": "2025-03-25T13:54:27.652101700Z"
    }
   },
   "id": "f5c5bbd3d0f66dab"
  },
  {
   "cell_type": "markdown",
   "source": [
    "> We can observe from the results, that the original number of columns was 208. After the application of the lowest variance threshold, the number of remaining features dropped to 207, after applying the medium threshold (0.05), the remaining number of features was also 207 and after applying threshold of 0.1 the number of remaining features was still 207.\n",
    "> We are going to be applying the variance threshold of 0.1 in the final pipeline to reduce the time and computational resources when applying further layers of feature selection."
   ],
   "metadata": {
    "collapsed": false
   },
   "id": "94d090b8682ccbc5"
  },
  {
   "cell_type": "markdown",
   "source": [
    "> In the following pipeline we are going to be exploring the options of further layers of feature selection. We are going to be focusing on two primary methods - select k best, and recursive feature elimination, each with different options. \n",
    "\n",
    "> In the select k best, we are going to try different scoring functions - f_classif, based on ANOVA and mutual_info_classif based on mutual information. It is expected that mutual_info_classif is going perform better, since we are working with both categorical and numerical data, as well as we have the assumption of the data not having many linear relationships.\n",
    "\n",
    "> In the RFE, we are going to be using logistic regression and random forest as classification algorithms. Since random forest is a more robust model, it is expected to yield better results. \n",
    "\n",
    "> We are also going to try to select different amount of features, to see which combination performs the best. We will try to select 50 features with the univariate selection, and 20 with the RFE, and 20 with univatriate selection and 10 with RFE."
   ],
   "metadata": {
    "collapsed": false
   },
   "id": "296d55dfe143015f"
  },
  {
   "cell_type": "code",
   "execution_count": 17,
   "outputs": [
    {
     "name": "stdout",
     "output_type": "stream",
     "text": [
      "      k           score_func  n_features_rfe           rfe_estimator  \\\n",
      "0    20            f_classif              10      LogisticRegression   \n",
      "1    20            f_classif              10  RandomForestClassifier   \n",
      "2    20  mutual_info_classif              10      LogisticRegression   \n",
      "3    20  mutual_info_classif              10  RandomForestClassifier   \n",
      "4    50            f_classif              20      LogisticRegression   \n",
      "5    50            f_classif              20  RandomForestClassifier   \n",
      "6    50  mutual_info_classif              20      LogisticRegression   \n",
      "7    50  mutual_info_classif              20  RandomForestClassifier   \n",
      "8   100            f_classif              50      LogisticRegression   \n",
      "9   100            f_classif              50  RandomForestClassifier   \n",
      "10  100  mutual_info_classif              50      LogisticRegression   \n",
      "11  100  mutual_info_classif              50  RandomForestClassifier   \n",
      "12  100            f_classif              75      LogisticRegression   \n",
      "13  100            f_classif              75  RandomForestClassifier   \n",
      "14  100  mutual_info_classif              75      LogisticRegression   \n",
      "15  100  mutual_info_classif              75  RandomForestClassifier   \n",
      "\n",
      "    num_params         AIC  \n",
      "0           11  706.217990  \n",
      "1           11  706.613669  \n",
      "2           11  706.217990  \n",
      "3           11  708.178121  \n",
      "4           21  355.958401  \n",
      "5           21  366.503934  \n",
      "6           21  356.280146  \n",
      "7           21  362.963896  \n",
      "8           51  384.675104  \n",
      "9           51  378.510381  \n",
      "10          51  385.181593  \n",
      "11          51  375.009410  \n",
      "12          76  441.685550  \n",
      "13          76  438.157592  \n",
      "14          76  432.782757  \n",
      "15          76  428.832701  \n"
     ]
    }
   ],
   "source": [
    "num_cols = X.select_dtypes(['number']).columns\n",
    "cat_cols = X.select_dtypes(['object']).columns\n",
    "\n",
    "num_pipeline = Pipeline([\n",
    "    ('imputer', SimpleImputer(strategy='median')),\n",
    "    ('outlier', HandleOutliers(lower_quantile=0.3, upper_quantile=0.7)),\n",
    "    ('scaler', StandardScaler())\n",
    "])\n",
    "\n",
    "cat_pipeline = Pipeline([\n",
    "    ('imputer', SimpleImputer(strategy='most_frequent')),\n",
    "    ('encoder', OneHotEncoder(handle_unknown='ignore', sparse_output=False))\n",
    "])\n",
    "\n",
    "preprocessor = ColumnTransformer([\n",
    "    ('num', num_pipeline, num_cols),\n",
    "    ('cat', cat_pipeline, cat_cols)\n",
    "])\n",
    "\n",
    "var_thresh = VarianceThreshold(threshold=0.1)\n",
    "score_funcs = [f_classif, mutual_info_classif]  \n",
    "n_features_rfe = [10, 20, 50, 75]  \n",
    "k_values = {10: 20, 20: 50, 50: 100, 75: 100}\n",
    "rfe_estimators = [LogisticRegression(max_iter=1000, solver='liblinear'), RandomForestClassifier()]  \n",
    "\n",
    "results = []\n",
    "\n",
    "for n_features in n_features_rfe:\n",
    "    k = k_values[n_features]  \n",
    "\n",
    "    for score_func in score_funcs:\n",
    "        for estimator in rfe_estimators:\n",
    "            select_k = SelectKBest(score_func=score_func, k=k)\n",
    "            rfe = RFE(estimator=estimator, n_features_to_select=n_features)\n",
    "            full_pipeline = Pipeline([\n",
    "                ('preprocessor', preprocessor),\n",
    "                ('variance_threshold', var_thresh),\n",
    "                ('select_k_best', select_k),\n",
    "                ('rfe', rfe),\n",
    "                ('classifier', LogisticRegression(max_iter=1000, solver='liblinear'))\n",
    "            ])\n",
    "\n",
    "            full_pipeline.fit(X_train, y_train)\n",
    "\n",
    "            test_predictions_proba = full_pipeline.predict_proba(X_test)[:, 1] \n",
    "            log_likelihood = -log_loss(y_test, test_predictions_proba, normalize=False)\n",
    "\n",
    "            model = full_pipeline.named_steps['classifier']\n",
    "            k_params = model.coef_.size + 1  \n",
    "\n",
    "            aic = 2 * k_params - 2 * log_likelihood\n",
    "\n",
    "            results.append({\n",
    "                'k': k,\n",
    "                'score_func': score_func.__name__,\n",
    "                'n_features_rfe': n_features,\n",
    "                'rfe_estimator': estimator.__class__.__name__,\n",
    "                'num_params': k_params,\n",
    "                'AIC': aic\n",
    "            })\n",
    "\n",
    "results_df = pd.DataFrame(results)\n",
    "print(results_df)"
   ],
   "metadata": {
    "collapsed": false,
    "ExecuteTime": {
     "end_time": "2025-03-25T14:02:58.849173600Z",
     "start_time": "2025-03-25T13:55:13.813972400Z"
    }
   },
   "id": "a7c8a3cdba5415dc"
  },
  {
   "cell_type": "code",
   "execution_count": 18,
   "outputs": [
    {
     "name": "stdout",
     "output_type": "stream",
     "text": [
      "      k           score_func  n_features_rfe           rfe_estimator  \\\n",
      "4    50            f_classif              20      LogisticRegression   \n",
      "6    50  mutual_info_classif              20      LogisticRegression   \n",
      "7    50  mutual_info_classif              20  RandomForestClassifier   \n",
      "5    50            f_classif              20  RandomForestClassifier   \n",
      "11  100  mutual_info_classif              50  RandomForestClassifier   \n",
      "9   100            f_classif              50  RandomForestClassifier   \n",
      "8   100            f_classif              50      LogisticRegression   \n",
      "10  100  mutual_info_classif              50      LogisticRegression   \n",
      "15  100  mutual_info_classif              75  RandomForestClassifier   \n",
      "14  100  mutual_info_classif              75      LogisticRegression   \n",
      "13  100            f_classif              75  RandomForestClassifier   \n",
      "12  100            f_classif              75      LogisticRegression   \n",
      "0    20            f_classif              10      LogisticRegression   \n",
      "2    20  mutual_info_classif              10      LogisticRegression   \n",
      "1    20            f_classif              10  RandomForestClassifier   \n",
      "3    20  mutual_info_classif              10  RandomForestClassifier   \n",
      "\n",
      "    num_params         AIC  \n",
      "4           21  355.958401  \n",
      "6           21  356.280146  \n",
      "7           21  362.963896  \n",
      "5           21  366.503934  \n",
      "11          51  375.009410  \n",
      "9           51  378.510381  \n",
      "8           51  384.675104  \n",
      "10          51  385.181593  \n",
      "15          76  428.832701  \n",
      "14          76  432.782757  \n",
      "13          76  438.157592  \n",
      "12          76  441.685550  \n",
      "0           11  706.217990  \n",
      "2           11  706.217990  \n",
      "1           11  706.613669  \n",
      "3           11  708.178121  \n"
     ]
    }
   ],
   "source": [
    "results_df_sorted = results_df.sort_values(by='AIC')\n",
    "print(results_df_sorted)"
   ],
   "metadata": {
    "collapsed": false,
    "ExecuteTime": {
     "end_time": "2025-03-25T14:03:52.747433600Z",
     "start_time": "2025-03-25T14:03:52.696958800Z"
    }
   },
   "id": "815ccfc1ec285b72"
  },
  {
   "cell_type": "markdown",
   "source": [
    "> The results show that the AIC scores are grouped based on the number of features. The best performing were 20 feature groups and the worst performing were the 10 feature groups. Among the 20 feature group, the best overall seems to be using f_classif and random forest classifier with a score of 752, but the other combinations in this feature range are within 4 points of the AIC score."
   ],
   "metadata": {
    "collapsed": false
   },
   "id": "f55294225e12918"
  },
  {
   "cell_type": "code",
   "execution_count": 19,
   "outputs": [
    {
     "data": {
      "text/plain": "<Figure size 1000x500 with 1 Axes>",
      "image/png": "[encoded data removed]"
     },
     "metadata": {},
     "output_type": "display_data"
    }
   ],
   "source": [
    "plt.figure(figsize=(10,5))\n",
    "for score_func in results_df['score_func'].unique():\n",
    "    subset = results_df[results_df['score_func'] == score_func]\n",
    "    plt.plot(subset['n_features_rfe'], subset['AIC'], marker='o', label=score_func)\n",
    "\n",
    "plt.xlabel('Number of Features (RFE)')\n",
    "plt.ylabel('AIC Score')\n",
    "plt.title('AIC Score vs Number of Features')\n",
    "plt.legend()\n",
    "plt.grid()\n",
    "plt.show()\n"
   ],
   "metadata": {
    "collapsed": false,
    "ExecuteTime": {
     "end_time": "2025-03-25T14:03:55.706305900Z",
     "start_time": "2025-03-25T14:03:55.472442800Z"
    }
   },
   "id": "a48bda90e624c807"
  },
  {
   "cell_type": "markdown",
   "source": [
    "> From the graph, we can confirm the results - using 20 features is the optimal range. The drop in the score from 10 features to 20 features indicates that 10 features is not enough for a good fit, as well as increasing the number of features beyond 20 reduces the performance, introduces noise and may cause overfitting."
   ],
   "metadata": {
    "collapsed": false
   },
   "id": "cbadddbbb7eb8c37"
  },
  {
   "cell_type": "markdown",
   "source": [
    "> Now we can proceed to build a final preprocessing pipeline with the optimal settings - using select k best with f_classif to select 50 features, and rfe with random forest classifier to select the best 20 features from the subset."
   ],
   "metadata": {
    "collapsed": false
   },
   "id": "b903a6910279bc9d"
  },
  {
   "cell_type": "code",
   "execution_count": 28,
   "outputs": [
    {
     "data": {
      "text/plain": "(0.9760793960471627, 0.9735413839891451, 'pipeline.pkl')"
     },
     "execution_count": 28,
     "metadata": {},
     "output_type": "execute_result"
    }
   ],
   "source": [
    "num_cols = X.select_dtypes(['number']).columns\n",
    "cat_cols = X.select_dtypes(['object']).columns\n",
    "\n",
    "num_pipeline = Pipeline([\n",
    "    ('imputer', SimpleImputer(strategy='median')),\n",
    "    ('outlier', HandleOutliers(lower_quantile=0.3, upper_quantile=0.7)),\n",
    "    ('scaler', StandardScaler())\n",
    "])\n",
    "\n",
    "cat_pipeline = Pipeline([\n",
    "    ('imputer', SimpleImputer(strategy='most_frequent')),\n",
    "    ('encoder', OneHotEncoder(handle_unknown='ignore', sparse_output=False))\n",
    "])\n",
    "\n",
    "preprocessor = ColumnTransformer([\n",
    "    ('num', num_pipeline, num_cols),\n",
    "    ('cat', cat_pipeline, cat_cols)\n",
    "])\n",
    "\n",
    "var_thresh = VarianceThreshold(threshold=0.1)\n",
    "select_k = SelectKBest(score_func=f_classif, k=50)\n",
    "log_reg = LogisticRegression(max_iter=1000, solver='liblinear')\n",
    "rfe = RFE(estimator=RandomForestClassifier(), n_features_to_select=20)\n",
    "\n",
    "full_pipeline = Pipeline([\n",
    "    ('preprocessor', preprocessor),\n",
    "    ('variance_threshold', var_thresh),\n",
    "    ('select_k_best', select_k),\n",
    "    ('rfe', rfe),\n",
    "    ('classifier', LogisticRegression(max_iter=200))\n",
    "])\n",
    "\n",
    "full_pipeline.fit(X_train, y_train)\n",
    "\n",
    "train_score = full_pipeline.score(X_train, y_train)\n",
    "test_predictions = full_pipeline.predict(X_test)\n",
    "test_accuracy = accuracy_score(y_test, test_predictions)\n",
    "\n",
    "pipeline_filename = 'pipeline.pkl'\n",
    "joblib.dump(full_pipeline, pipeline_filename)\n",
    "\n",
    "train_score, test_accuracy, pipeline_filename"
   ],
   "metadata": {
    "collapsed": false,
    "ExecuteTime": {
     "end_time": "2025-03-25T14:35:28.526221100Z",
     "start_time": "2025-03-25T14:35:21.071949700Z"
    }
   },
   "id": "a1949d7c0d85401f"
  },
  {
   "cell_type": "code",
   "execution_count": 21,
   "outputs": [
    {
     "name": "stdout",
     "output_type": "stream",
     "text": [
      "Training Classification Report:\n",
      "               precision    recall  f1-score   support\n",
      "\n",
      "           0       1.00      0.96      0.98      6477\n",
      "           1       0.95      1.00      0.97      5312\n",
      "\n",
      "    accuracy                           0.98     11789\n",
      "   macro avg       0.97      0.98      0.98     11789\n",
      "weighted avg       0.98      0.98      0.98     11789\n"
     ]
    }
   ],
   "source": [
    "train_predictions = full_pipeline.predict(X_train)\n",
    "print(\"Training Classification Report:\\n\", classification_report(y_train, train_predictions))"
   ],
   "metadata": {
    "collapsed": false,
    "ExecuteTime": {
     "end_time": "2025-03-25T14:08:44.685205400Z",
     "start_time": "2025-03-25T14:08:43.444183100Z"
    }
   },
   "id": "fc0bc9a6ab96730f"
  },
  {
   "cell_type": "code",
   "execution_count": 22,
   "outputs": [
    {
     "name": "stdout",
     "output_type": "stream",
     "text": [
      "Test Classification Report:\n",
      "               precision    recall  f1-score   support\n",
      "\n",
      "           0       0.99      0.96      0.98      1648\n",
      "           1       0.95      0.99      0.97      1300\n",
      "\n",
      "    accuracy                           0.97      2948\n",
      "   macro avg       0.97      0.98      0.97      2948\n",
      "weighted avg       0.97      0.97      0.97      2948\n"
     ]
    }
   ],
   "source": [
    "test_predictions = full_pipeline.predict(X_test)\n",
    "print(\"Test Classification Report:\\n\", classification_report(y_test, test_predictions))"
   ],
   "metadata": {
    "collapsed": false,
    "ExecuteTime": {
     "end_time": "2025-03-25T14:08:45.580773500Z",
     "start_time": "2025-03-25T14:08:45.242373400Z"
    }
   },
   "id": "ec49fa3f130e5ec7"
  },
  {
   "cell_type": "markdown",
   "source": [
    "> Based on the classification reports, the basic model performs reasonably well on both training and test data. The results show no signs of overfitting or underfitting."
   ],
   "metadata": {
    "collapsed": false
   },
   "id": "1cffd546e3998022"
  },
  {
   "cell_type": "code",
   "execution_count": 23,
   "outputs": [
    {
     "name": "stdout",
     "output_type": "stream",
     "text": [
      "Cross-Validation Mean Accuracy: 0.9757403910823804\n"
     ]
    }
   ],
   "source": [
    "cv_scores = cross_val_score(full_pipeline, X_train, y_train, cv=5, scoring='accuracy')\n",
    "print(\"Cross-Validation Mean Accuracy:\", cv_scores.mean())"
   ],
   "metadata": {
    "collapsed": false,
    "ExecuteTime": {
     "end_time": "2025-03-25T14:09:09.477240100Z",
     "start_time": "2025-03-25T14:08:46.663855900Z"
    }
   },
   "id": "e906773e745780b5"
  },
  {
   "cell_type": "markdown",
   "source": [
    "> The cross validation score supports the good performance of the initial model."
   ],
   "metadata": {
    "collapsed": false
   },
   "id": "1b56028ca10e1418"
  },
  {
   "cell_type": "code",
   "execution_count": 24,
   "outputs": [
    {
     "name": "stdout",
     "output_type": "stream",
     "text": [
      "most important features:\n",
      "x103\n",
      "x132\n",
      "x135\n",
      "x136\n",
      "x137\n",
      "x138\n",
      "x140\n",
      "x141\n",
      "x143\n",
      "x146\n",
      "x148\n",
      "x150\n",
      "x151\n",
      "x153\n",
      "x155\n",
      "x160\n",
      "x163\n",
      "x166\n",
      "x177\n",
      "x200\n"
     ]
    }
   ],
   "source": [
    "feature_selector = full_pipeline.named_steps['rfe']\n",
    "selected_model = feature_selector.estimator_ \n",
    "preprocessed_features = full_pipeline.named_steps['select_k_best'].get_feature_names_out()\n",
    "selected_features = [preprocessed_features[i] for i in range(len(preprocessed_features)) if feature_selector.support_[i]]\n",
    "print(\"most important features:\")\n",
    "for feature in selected_features:\n",
    "    print(f\"{feature}\")"
   ],
   "metadata": {
    "collapsed": false,
    "ExecuteTime": {
     "end_time": "2025-03-25T14:09:24.592662100Z",
     "start_time": "2025-03-25T14:09:24.572663600Z"
    }
   },
   "id": "76ee47e5fc77a88f"
  },
  {
   "cell_type": "markdown",
   "source": [
    "TODO: fix the feature name output"
   ],
   "metadata": {
    "collapsed": false
   },
   "id": "27855245fe7576fa"
  },
  {
   "cell_type": "code",
   "execution_count": null,
   "outputs": [],
   "source": [],
   "metadata": {
    "collapsed": false
   },
   "id": "d21e115ead9ec00a"
  }
 ],
 "metadata": {
  "kernelspec": {
   "display_name": "Python 3",
   "language": "python",
   "name": "python3"
  },
  "language_info": {
   "codemirror_mode": {
    "name": "ipython",
    "version": 2
   },
   "file_extension": ".py",
   "mimetype": "text/x-python",
   "name": "python",
   "nbconvert_exporter": "python",
   "pygments_lexer": "ipython2",
   "version": "2.7.6"
  }
 },
 "nbformat": 4,
 "nbformat_minor": 5
}
